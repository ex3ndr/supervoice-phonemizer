{
 "cells": [
  {
   "cell_type": "code",
   "execution_count": 5,
   "id": "c29bdd96-e823-4203-bce5-3a330b9cad58",
   "metadata": {},
   "outputs": [],
   "source": [
    "import torch"
   ]
  },
  {
   "cell_type": "code",
   "execution_count": 9,
   "id": "86e5920e-918e-46ae-a053-469c2ce0033b",
   "metadata": {},
   "outputs": [
    {
     "name": "stderr",
     "output_type": "stream",
     "text": [
      "Downloading: \"https://github.com/ex3ndr/supervoice-phonemizer/zipball/master\" to /home/steve/.cache/torch/hub/master.zip\n",
      "100%|██████████| 62.6M/62.6M [00:04<00:00, 15.7MB/s]\n",
      "/home/steve/miniconda/envs/gym/lib/python3.10/site-packages/torch/nn/modules/transformer.py:286: UserWarning: enable_nested_tensor is True, but self.use_nested_tensor is False because encoder_layer.self_attn.batch_first was not True(use batch_first for better inference performance)\n",
      "  warnings.warn(f\"enable_nested_tensor is True, but self.use_nested_tensor is False because {why_not_sparsity_fast_path}\")\n"
     ]
    }
   ],
   "source": [
    "model = torch.hub.load(repo_or_dir='ex3ndr/supervoice-phonemizer', model='phonemizer', force_reload=True)"
   ]
  },
  {
   "cell_type": "code",
   "execution_count": 13,
   "id": "22926708-bed3-4dc3-99dd-930e9c14258e",
   "metadata": {},
   "outputs": [
    {
     "data": {
      "text/plain": [
       "'wʌt taɪm ɪz ɪt?'"
      ]
     },
     "execution_count": 13,
     "metadata": {},
     "output_type": "execute_result"
    }
   ],
   "source": [
    "model(\"What time is it?\", lang=\"en_us\")"
   ]
  },
  {
   "cell_type": "code",
   "execution_count": null,
   "id": "bf36d84c-2b01-4414-9efd-cca8ad044349",
   "metadata": {},
   "outputs": [],
   "source": []
  }
 ],
 "metadata": {
  "kernelspec": {
   "display_name": "Python 3 (ipykernel)",
   "language": "python",
   "name": "python3"
  },
  "language_info": {
   "codemirror_mode": {
    "name": "ipython",
    "version": 3
   },
   "file_extension": ".py",
   "mimetype": "text/x-python",
   "name": "python",
   "nbconvert_exporter": "python",
   "pygments_lexer": "ipython3",
   "version": "3.10.13"
  }
 },
 "nbformat": 4,
 "nbformat_minor": 5
}
